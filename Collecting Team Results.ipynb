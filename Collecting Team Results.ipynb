{
 "cells": [
  {
   "cell_type": "code",
   "execution_count": 1,
   "id": "b20b0612",
   "metadata": {},
   "outputs": [],
   "source": [
    "import warnings\n",
    "warnings.filterwarnings('ignore')"
   ]
  },
  {
   "cell_type": "code",
   "execution_count": 2,
   "id": "85e525e3",
   "metadata": {},
   "outputs": [],
   "source": [
    "import pandas as pd\n",
    "import numpy as np\n",
    "import json\n",
    "import os\n",
    "import requests\n",
    "from bs4 import BeautifulSoup"
   ]
  },
  {
   "cell_type": "code",
   "execution_count": 3,
   "id": "6dba28d1",
   "metadata": {},
   "outputs": [],
   "source": [
    "def get_scores(day):\n",
    "    url = f\"https://www.ncaa.com/scoreboard/soccer-men/d1/2024/{day}/all-conf\"\n",
    "\n",
    "    # Send a request to fetch the HTML content of the page\n",
    "    response = requests.get(url)\n",
    "\n",
    "    # Check if the request was successful\n",
    "    if response.status_code != 200:\n",
    "        print(\"Error fetching the page.\")\n",
    "        return []\n",
    "\n",
    "    # Create a BeautifulSoup object\n",
    "    soup = BeautifulSoup(response.text, 'html.parser')\n",
    "\n",
    "    # Find all game pods with the final status\n",
    "    games = soup.find_all('div', class_='gamePod gamePod-type-game status-final')\n",
    "\n",
    "    scores = []  # List to hold score results\n",
    "\n",
    "    # Iterate through each game and extract relevant information\n",
    "    for game in games:\n",
    "        teams = game.find_all('li')\n",
    "\n",
    "        if len(teams) < 2:  # Ensure there are at least two teams\n",
    "            continue\n",
    "\n",
    "        # Away team information (always the first team listed)\n",
    "        away_team_name = teams[0].find('span', class_='gamePod-game-team-name').text.strip()\n",
    "        away_team_score = teams[0].find('span', class_='gamePod-game-team-score').text.strip()\n",
    "\n",
    "        # Home team information (always the second team listed)\n",
    "        home_team_name = teams[1].find('span', class_='gamePod-game-team-name').text.strip()\n",
    "        home_team_score = teams[1].find('span', class_='gamePod-game-team-score').text.strip()\n",
    "        \n",
    "        # Append the result to the scores list\n",
    "        scores.append({\n",
    "            'home_team': home_team_name,\n",
    "            'home_team_score': home_team_score,\n",
    "            'away_team': away_team_name,\n",
    "            'away_team_score': away_team_score,\n",
    "        })\n",
    "\n",
    "    return scores  # Return the scores list\n"
   ]
  },
  {
   "cell_type": "code",
   "execution_count": 4,
   "id": "10a8f4bb",
   "metadata": {},
   "outputs": [],
   "source": [
    "start_date = '2024-08-22'\n",
    "end_date = '2024-09-25'\n",
    "\n",
    "# Generate a date range\n",
    "date_range = pd.date_range(start=start_date, end=end_date)\n",
    "\n",
    "# Extract month/day for each date\n",
    "time_range = date_range.strftime('%m/%d').tolist()"
   ]
  },
  {
   "cell_type": "code",
   "execution_count": 5,
   "id": "4f5f4df8",
   "metadata": {},
   "outputs": [],
   "source": [
    "dfs = []\n",
    "for day in time_range:\n",
    "    scores = get_scores(day)\n",
    "    \n",
    "    scores_df = pd.DataFrame(scores)\n",
    "    \n",
    "    dfs.append(scores_df)\n",
    "    \n",
    "dfs = pd.concat(dfs, ignore_index=True)\n",
    "#dfs.to_csv(rf'results/ncaa_scores_{end_date}.csv', index=False)"
   ]
  },
  {
   "cell_type": "code",
   "execution_count": 6,
   "id": "a0e17f00",
   "metadata": {},
   "outputs": [
    {
     "data": {
      "text/plain": [
       "[{'home_team': 'Marshall',\n",
       "  'home_team_score': '1',\n",
       "  'away_team': 'VCU',\n",
       "  'away_team_score': '0'},\n",
       " {'home_team': 'SMU',\n",
       "  'home_team_score': '1',\n",
       "  'away_team': 'FIU',\n",
       "  'away_team_score': '1'},\n",
       " {'home_team': 'Southern Ind.',\n",
       "  'home_team_score': '1',\n",
       "  'away_team': 'Rose-Hulman',\n",
       "  'away_team_score': '0'},\n",
       " {'home_team': 'Utah Valley',\n",
       "  'home_team_score': '0',\n",
       "  'away_team': 'Oregon St.',\n",
       "  'away_team_score': '1'},\n",
       " {'home_team': 'California Baptist',\n",
       "  'home_team_score': '0',\n",
       "  'away_team': 'UC Riverside',\n",
       "  'away_team_score': '0'},\n",
       " {'home_team': 'Pacific',\n",
       "  'home_team_score': '1',\n",
       "  'away_team': 'CSU Bakersfield',\n",
       "  'away_team_score': '2'}]"
      ]
     },
     "execution_count": 6,
     "metadata": {},
     "output_type": "execute_result"
    }
   ],
   "source": [
    "scores"
   ]
  },
  {
   "cell_type": "code",
   "execution_count": 7,
   "id": "6da3fc17",
   "metadata": {},
   "outputs": [],
   "source": [
    "conferences = pd.read_csv('teams_conferences.csv')\n",
    "conferences = conferences[['School', 'Conference']]"
   ]
  },
  {
   "cell_type": "code",
   "execution_count": 8,
   "id": "23e50e5d",
   "metadata": {},
   "outputs": [],
   "source": [
    "conferences.columns = ['Team', 'Conference']"
   ]
  },
  {
   "cell_type": "code",
   "execution_count": 9,
   "id": "1be03c2e",
   "metadata": {},
   "outputs": [],
   "source": [
    "# First, merge to get the home_team_conference\n",
    "dfs = dfs.merge(conferences, left_on='home_team', right_on='Team', how='left')\n",
    "dfs = dfs.rename(columns={'Conference': 'home_team_conference'}).drop('Team', axis=1)\n",
    "\n",
    "# Then, merge to get the away_team_conference\n",
    "dfs = dfs.merge(conferences, left_on='away_team', right_on='Team', how='left')\n",
    "dfs = dfs.rename(columns={'Conference': 'away_team_conference'}).drop('Team', axis=1)\n",
    "\n",
    "# Now dfs will have the columns ['home_team_conference', 'away_team_conference']\n"
   ]
  },
  {
   "cell_type": "code",
   "execution_count": 12,
   "id": "9a9964f6",
   "metadata": {},
   "outputs": [],
   "source": [
    "dfs.to_excel(rf'results/ncaa_scores_{end_date}.xlsx', index=False)"
   ]
  }
 ],
 "metadata": {
  "kernelspec": {
   "display_name": "Python 3 (ipykernel)",
   "language": "python",
   "name": "python3"
  },
  "language_info": {
   "codemirror_mode": {
    "name": "ipython",
    "version": 3
   },
   "file_extension": ".py",
   "mimetype": "text/x-python",
   "name": "python",
   "nbconvert_exporter": "python",
   "pygments_lexer": "ipython3",
   "version": "3.9.7"
  }
 },
 "nbformat": 4,
 "nbformat_minor": 5
}
