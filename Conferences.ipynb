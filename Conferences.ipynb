{
 "cells": [
  {
   "cell_type": "code",
   "execution_count": 2,
   "id": "b20b0612",
   "metadata": {},
   "outputs": [],
   "source": [
    "import warnings\n",
    "warnings.filterwarnings('ignore')"
   ]
  },
  {
   "cell_type": "code",
   "execution_count": 3,
   "id": "85e525e3",
   "metadata": {},
   "outputs": [],
   "source": [
    "import pandas as pd\n",
    "import numpy as np\n",
    "import json\n",
    "import os\n",
    "import requests\n",
    "from bs4 import BeautifulSoup"
   ]
  },
  {
   "cell_type": "code",
   "execution_count": 1,
   "id": "ac012be1",
   "metadata": {},
   "outputs": [],
   "source": [
    "url = 'https://www.ncaa.com/rankings/soccer-men/d1/ncaa-mens-soccer-rpi'"
   ]
  },
  {
   "cell_type": "code",
   "execution_count": 10,
   "id": "27eb5d45",
   "metadata": {},
   "outputs": [],
   "source": [
    "import requests\n",
    "from bs4 import BeautifulSoup\n",
    "import pandas as pd\n",
    "\n",
    "def scrape_conferences(url):\n",
    "    try:\n",
    "        response = requests.get(url)\n",
    "\n",
    "        # Check if the request was successful\n",
    "        if response.status_code != 200:\n",
    "            print(\"Error fetching the page.\")\n",
    "            return [], []\n",
    "\n",
    "        # Create a BeautifulSoup object\n",
    "        soup = BeautifulSoup(response.text, 'html.parser')\n",
    "        \n",
    "        stats_table = soup.find('table')\n",
    "        if not stats_table:\n",
    "            print(\"Statistics table not found.\")\n",
    "            return [], []\n",
    "\n",
    "        # Extract headers\n",
    "        headers = [header.text.strip() for header in stats_table.find_all('th')]\n",
    "\n",
    "        # Extract rows\n",
    "        rows = []\n",
    "        for row in stats_table.find_all('tr')[1:]:  # skip the header row\n",
    "            cols = row.find_all('td')\n",
    "            cols = [ele.text.strip() for ele in cols]\n",
    "            rows.append(cols)\n",
    "        \n",
    "        return headers, rows\n",
    "\n",
    "    except requests.HTTPError as e:\n",
    "        print(f'HTTP Error occurred: {e.response.status_code}')\n",
    "        return [], []\n",
    "    except requests.RequestException as e:\n",
    "        print(f'Request exception: {e}')\n",
    "        return [], []\n",
    "    except Exception as e:\n",
    "        print(f'An error occurred: {e}')\n",
    "        return [], []\n",
    "\n",
    "# Initialize an empty list to collect all the data\n",
    "all_rows = []\n",
    "all_headers = None\n",
    "\n",
    "headers, rows = scrape_conferences(url)\n",
    "    \n",
    "if headers and rows:\n",
    "    if all_headers is None:\n",
    "        all_headers = headers  # Save headers once\n",
    "    all_rows.extend(rows)  # Collect rows from all pages\n",
    "\n",
    "if all_headers and all_rows:\n",
    "    # Create a DataFrame from the concatenated data\n",
    "    conferences = pd.DataFrame(all_rows, columns=all_headers)\n",
    "else:\n",
    "    print(\"No data was scraped.\")\n",
    "    \n",
    "conferences = conferences[['School', 'Conference']]"
   ]
  },
  {
   "cell_type": "code",
   "execution_count": 12,
   "id": "4a01da60",
   "metadata": {},
   "outputs": [],
   "source": [
    "conferences.to_csv('teams_conferences.csv')"
   ]
  },
  {
   "cell_type": "code",
   "execution_count": null,
   "id": "c5750fbf",
   "metadata": {},
   "outputs": [],
   "source": []
  }
 ],
 "metadata": {
  "kernelspec": {
   "display_name": "Python 3 (ipykernel)",
   "language": "python",
   "name": "python3"
  },
  "language_info": {
   "codemirror_mode": {
    "name": "ipython",
    "version": 3
   },
   "file_extension": ".py",
   "mimetype": "text/x-python",
   "name": "python",
   "nbconvert_exporter": "python",
   "pygments_lexer": "ipython3",
   "version": "3.9.7"
  }
 },
 "nbformat": 4,
 "nbformat_minor": 5
}
